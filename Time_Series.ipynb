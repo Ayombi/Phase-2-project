{
  "cells": [
    {
      "cell_type": "markdown",
      "metadata": {
        "id": "view-in-github",
        "colab_type": "text"
      },
      "source": [
        "<a href=\"https://colab.research.google.com/github/Ayombi/Phase-2-project/blob/main/Time_Series.ipynb\" target=\"_parent\"><img src=\"https://colab.research.google.com/assets/colab-badge.svg\" alt=\"Open In Colab\"/></a>"
      ]
    },
    {
      "cell_type": "markdown",
      "id": "9a61faf1",
      "metadata": {
        "deletable": false,
        "editable": false,
        "nbgrader": {
          "cell_type": "markdown",
          "checksum": "0a454b14db6e7e569aefbbd61c76bd7f",
          "grade": false,
          "grade_id": "cell-e09d1d1727c07a79",
          "locked": true,
          "schema_version": 3,
          "solution": false,
          "task": false
        },
        "id": "9a61faf1"
      },
      "source": [
        "# Time Series Checkpoint\n",
        "\n",
        "This checkpoint is designed to test your knowledge of time series analysis and modeling.\n",
        "\n",
        "Specifically, this will cover:\n",
        "\n",
        "* Using `pandas` to manipulate time series data\n",
        "* Plotting time series data\n",
        "* Modeling time series data with an ARMA model"
      ]
    },
    {
      "cell_type": "markdown",
      "id": "1ac01063",
      "metadata": {
        "deletable": false,
        "editable": false,
        "nbgrader": {
          "cell_type": "markdown",
          "checksum": "e177d85d260fdfb868da362bd0de9773",
          "grade": false,
          "grade_id": "cell-5c2150a70b218a3d",
          "locked": true,
          "schema_version": 3,
          "solution": false,
          "task": false
        },
        "id": "1ac01063"
      },
      "source": [
        "## Data Understanding\n",
        "\n",
        "The following dataset comes from the [UCI Machine Learning Repository](https://archive.ics.uci.edu/ml/datasets/Appliances+energy+prediction). It includes energy usage data as well as temperature and humidity data.\n",
        "\n",
        "The relevant columns for your analysis will be:\n",
        "\n",
        "* `date`: A string representing the timestamp of measurements taken every 10 minutes\n",
        "* `lights`: An integer representing energy use of light fixtures in the house in Wh"
      ]
    },
    {
      "cell_type": "code",
      "execution_count": 1,
      "id": "edda2702",
      "metadata": {
        "deletable": false,
        "editable": false,
        "nbgrader": {
          "cell_type": "code",
          "checksum": "e22071223a32dea08f37fcd94bf87a51",
          "grade": false,
          "grade_id": "cell-d4591cce74003c68",
          "locked": true,
          "schema_version": 3,
          "solution": false,
          "task": false
        },
        "colab": {
          "base_uri": "https://localhost:8080/",
          "height": 429
        },
        "id": "edda2702",
        "outputId": "42ec51b6-eee6-4a61-bc0e-8f06a8940b02"
      },
      "outputs": [
        {
          "output_type": "execute_result",
          "data": {
            "text/plain": [
              "                  date  Appliances  lights     T1       RH_1    T2       RH_2  \\\n",
              "0  2016-01-11 17:00:00          60      30  19.89  47.596667  19.2  44.790000   \n",
              "1  2016-01-11 17:10:00          60      30  19.89  46.693333  19.2  44.722500   \n",
              "2  2016-01-11 17:20:00          50      30  19.89  46.300000  19.2  44.626667   \n",
              "3  2016-01-11 17:30:00          50      40  19.89  46.066667  19.2  44.590000   \n",
              "4  2016-01-11 17:40:00          60      40  19.89  46.333333  19.2  44.530000   \n",
              "\n",
              "      T3       RH_3         T4  ...         T9   RH_9     T_out  Press_mm_hg  \\\n",
              "0  19.79  44.730000  19.000000  ...  17.033333  45.53  6.600000        733.5   \n",
              "1  19.79  44.790000  19.000000  ...  17.066667  45.56  6.483333        733.6   \n",
              "2  19.79  44.933333  18.926667  ...  17.000000  45.50  6.366667        733.7   \n",
              "3  19.79  45.000000  18.890000  ...  17.000000  45.40  6.250000        733.8   \n",
              "4  19.79  45.000000  18.890000  ...  17.000000  45.40  6.133333        733.9   \n",
              "\n",
              "   RH_out  Windspeed  Visibility  Tdewpoint        rv1        rv2  \n",
              "0    92.0   7.000000   63.000000        5.3  13.275433  13.275433  \n",
              "1    92.0   6.666667   59.166667        5.2  18.606195  18.606195  \n",
              "2    92.0   6.333333   55.333333        5.1  28.642668  28.642668  \n",
              "3    92.0   6.000000   51.500000        5.0  45.410389  45.410389  \n",
              "4    92.0   5.666667   47.666667        4.9  10.084097  10.084097  \n",
              "\n",
              "[5 rows x 29 columns]"
            ],
            "text/html": [
              "\n",
              "  <div id=\"df-b3ac1fae-4992-44af-be4f-b3831c3e39b8\" class=\"colab-df-container\">\n",
              "    <div>\n",
              "<style scoped>\n",
              "    .dataframe tbody tr th:only-of-type {\n",
              "        vertical-align: middle;\n",
              "    }\n",
              "\n",
              "    .dataframe tbody tr th {\n",
              "        vertical-align: top;\n",
              "    }\n",
              "\n",
              "    .dataframe thead th {\n",
              "        text-align: right;\n",
              "    }\n",
              "</style>\n",
              "<table border=\"1\" class=\"dataframe\">\n",
              "  <thead>\n",
              "    <tr style=\"text-align: right;\">\n",
              "      <th></th>\n",
              "      <th>date</th>\n",
              "      <th>Appliances</th>\n",
              "      <th>lights</th>\n",
              "      <th>T1</th>\n",
              "      <th>RH_1</th>\n",
              "      <th>T2</th>\n",
              "      <th>RH_2</th>\n",
              "      <th>T3</th>\n",
              "      <th>RH_3</th>\n",
              "      <th>T4</th>\n",
              "      <th>...</th>\n",
              "      <th>T9</th>\n",
              "      <th>RH_9</th>\n",
              "      <th>T_out</th>\n",
              "      <th>Press_mm_hg</th>\n",
              "      <th>RH_out</th>\n",
              "      <th>Windspeed</th>\n",
              "      <th>Visibility</th>\n",
              "      <th>Tdewpoint</th>\n",
              "      <th>rv1</th>\n",
              "      <th>rv2</th>\n",
              "    </tr>\n",
              "  </thead>\n",
              "  <tbody>\n",
              "    <tr>\n",
              "      <th>0</th>\n",
              "      <td>2016-01-11 17:00:00</td>\n",
              "      <td>60</td>\n",
              "      <td>30</td>\n",
              "      <td>19.89</td>\n",
              "      <td>47.596667</td>\n",
              "      <td>19.2</td>\n",
              "      <td>44.790000</td>\n",
              "      <td>19.79</td>\n",
              "      <td>44.730000</td>\n",
              "      <td>19.000000</td>\n",
              "      <td>...</td>\n",
              "      <td>17.033333</td>\n",
              "      <td>45.53</td>\n",
              "      <td>6.600000</td>\n",
              "      <td>733.5</td>\n",
              "      <td>92.0</td>\n",
              "      <td>7.000000</td>\n",
              "      <td>63.000000</td>\n",
              "      <td>5.3</td>\n",
              "      <td>13.275433</td>\n",
              "      <td>13.275433</td>\n",
              "    </tr>\n",
              "    <tr>\n",
              "      <th>1</th>\n",
              "      <td>2016-01-11 17:10:00</td>\n",
              "      <td>60</td>\n",
              "      <td>30</td>\n",
              "      <td>19.89</td>\n",
              "      <td>46.693333</td>\n",
              "      <td>19.2</td>\n",
              "      <td>44.722500</td>\n",
              "      <td>19.79</td>\n",
              "      <td>44.790000</td>\n",
              "      <td>19.000000</td>\n",
              "      <td>...</td>\n",
              "      <td>17.066667</td>\n",
              "      <td>45.56</td>\n",
              "      <td>6.483333</td>\n",
              "      <td>733.6</td>\n",
              "      <td>92.0</td>\n",
              "      <td>6.666667</td>\n",
              "      <td>59.166667</td>\n",
              "      <td>5.2</td>\n",
              "      <td>18.606195</td>\n",
              "      <td>18.606195</td>\n",
              "    </tr>\n",
              "    <tr>\n",
              "      <th>2</th>\n",
              "      <td>2016-01-11 17:20:00</td>\n",
              "      <td>50</td>\n",
              "      <td>30</td>\n",
              "      <td>19.89</td>\n",
              "      <td>46.300000</td>\n",
              "      <td>19.2</td>\n",
              "      <td>44.626667</td>\n",
              "      <td>19.79</td>\n",
              "      <td>44.933333</td>\n",
              "      <td>18.926667</td>\n",
              "      <td>...</td>\n",
              "      <td>17.000000</td>\n",
              "      <td>45.50</td>\n",
              "      <td>6.366667</td>\n",
              "      <td>733.7</td>\n",
              "      <td>92.0</td>\n",
              "      <td>6.333333</td>\n",
              "      <td>55.333333</td>\n",
              "      <td>5.1</td>\n",
              "      <td>28.642668</td>\n",
              "      <td>28.642668</td>\n",
              "    </tr>\n",
              "    <tr>\n",
              "      <th>3</th>\n",
              "      <td>2016-01-11 17:30:00</td>\n",
              "      <td>50</td>\n",
              "      <td>40</td>\n",
              "      <td>19.89</td>\n",
              "      <td>46.066667</td>\n",
              "      <td>19.2</td>\n",
              "      <td>44.590000</td>\n",
              "      <td>19.79</td>\n",
              "      <td>45.000000</td>\n",
              "      <td>18.890000</td>\n",
              "      <td>...</td>\n",
              "      <td>17.000000</td>\n",
              "      <td>45.40</td>\n",
              "      <td>6.250000</td>\n",
              "      <td>733.8</td>\n",
              "      <td>92.0</td>\n",
              "      <td>6.000000</td>\n",
              "      <td>51.500000</td>\n",
              "      <td>5.0</td>\n",
              "      <td>45.410389</td>\n",
              "      <td>45.410389</td>\n",
              "    </tr>\n",
              "    <tr>\n",
              "      <th>4</th>\n",
              "      <td>2016-01-11 17:40:00</td>\n",
              "      <td>60</td>\n",
              "      <td>40</td>\n",
              "      <td>19.89</td>\n",
              "      <td>46.333333</td>\n",
              "      <td>19.2</td>\n",
              "      <td>44.530000</td>\n",
              "      <td>19.79</td>\n",
              "      <td>45.000000</td>\n",
              "      <td>18.890000</td>\n",
              "      <td>...</td>\n",
              "      <td>17.000000</td>\n",
              "      <td>45.40</td>\n",
              "      <td>6.133333</td>\n",
              "      <td>733.9</td>\n",
              "      <td>92.0</td>\n",
              "      <td>5.666667</td>\n",
              "      <td>47.666667</td>\n",
              "      <td>4.9</td>\n",
              "      <td>10.084097</td>\n",
              "      <td>10.084097</td>\n",
              "    </tr>\n",
              "  </tbody>\n",
              "</table>\n",
              "<p>5 rows × 29 columns</p>\n",
              "</div>\n",
              "    <div class=\"colab-df-buttons\">\n",
              "\n",
              "  <div class=\"colab-df-container\">\n",
              "    <button class=\"colab-df-convert\" onclick=\"convertToInteractive('df-b3ac1fae-4992-44af-be4f-b3831c3e39b8')\"\n",
              "            title=\"Convert this dataframe to an interactive table.\"\n",
              "            style=\"display:none;\">\n",
              "\n",
              "  <svg xmlns=\"http://www.w3.org/2000/svg\" height=\"24px\" viewBox=\"0 -960 960 960\">\n",
              "    <path d=\"M120-120v-720h720v720H120Zm60-500h600v-160H180v160Zm220 220h160v-160H400v160Zm0 220h160v-160H400v160ZM180-400h160v-160H180v160Zm440 0h160v-160H620v160ZM180-180h160v-160H180v160Zm440 0h160v-160H620v160Z\"/>\n",
              "  </svg>\n",
              "    </button>\n",
              "\n",
              "  <style>\n",
              "    .colab-df-container {\n",
              "      display:flex;\n",
              "      gap: 12px;\n",
              "    }\n",
              "\n",
              "    .colab-df-convert {\n",
              "      background-color: #E8F0FE;\n",
              "      border: none;\n",
              "      border-radius: 50%;\n",
              "      cursor: pointer;\n",
              "      display: none;\n",
              "      fill: #1967D2;\n",
              "      height: 32px;\n",
              "      padding: 0 0 0 0;\n",
              "      width: 32px;\n",
              "    }\n",
              "\n",
              "    .colab-df-convert:hover {\n",
              "      background-color: #E2EBFA;\n",
              "      box-shadow: 0px 1px 2px rgba(60, 64, 67, 0.3), 0px 1px 3px 1px rgba(60, 64, 67, 0.15);\n",
              "      fill: #174EA6;\n",
              "    }\n",
              "\n",
              "    .colab-df-buttons div {\n",
              "      margin-bottom: 4px;\n",
              "    }\n",
              "\n",
              "    [theme=dark] .colab-df-convert {\n",
              "      background-color: #3B4455;\n",
              "      fill: #D2E3FC;\n",
              "    }\n",
              "\n",
              "    [theme=dark] .colab-df-convert:hover {\n",
              "      background-color: #434B5C;\n",
              "      box-shadow: 0px 1px 3px 1px rgba(0, 0, 0, 0.15);\n",
              "      filter: drop-shadow(0px 1px 2px rgba(0, 0, 0, 0.3));\n",
              "      fill: #FFFFFF;\n",
              "    }\n",
              "  </style>\n",
              "\n",
              "    <script>\n",
              "      const buttonEl =\n",
              "        document.querySelector('#df-b3ac1fae-4992-44af-be4f-b3831c3e39b8 button.colab-df-convert');\n",
              "      buttonEl.style.display =\n",
              "        google.colab.kernel.accessAllowed ? 'block' : 'none';\n",
              "\n",
              "      async function convertToInteractive(key) {\n",
              "        const element = document.querySelector('#df-b3ac1fae-4992-44af-be4f-b3831c3e39b8');\n",
              "        const dataTable =\n",
              "          await google.colab.kernel.invokeFunction('convertToInteractive',\n",
              "                                                    [key], {});\n",
              "        if (!dataTable) return;\n",
              "\n",
              "        const docLinkHtml = 'Like what you see? Visit the ' +\n",
              "          '<a target=\"_blank\" href=https://colab.research.google.com/notebooks/data_table.ipynb>data table notebook</a>'\n",
              "          + ' to learn more about interactive tables.';\n",
              "        element.innerHTML = '';\n",
              "        dataTable['output_type'] = 'display_data';\n",
              "        await google.colab.output.renderOutput(dataTable, element);\n",
              "        const docLink = document.createElement('div');\n",
              "        docLink.innerHTML = docLinkHtml;\n",
              "        element.appendChild(docLink);\n",
              "      }\n",
              "    </script>\n",
              "  </div>\n",
              "\n",
              "\n",
              "<div id=\"df-ca7017da-0022-4e8c-af6e-38aecf0a5e2b\">\n",
              "  <button class=\"colab-df-quickchart\" onclick=\"quickchart('df-ca7017da-0022-4e8c-af6e-38aecf0a5e2b')\"\n",
              "            title=\"Suggest charts\"\n",
              "            style=\"display:none;\">\n",
              "\n",
              "<svg xmlns=\"http://www.w3.org/2000/svg\" height=\"24px\"viewBox=\"0 0 24 24\"\n",
              "     width=\"24px\">\n",
              "    <g>\n",
              "        <path d=\"M19 3H5c-1.1 0-2 .9-2 2v14c0 1.1.9 2 2 2h14c1.1 0 2-.9 2-2V5c0-1.1-.9-2-2-2zM9 17H7v-7h2v7zm4 0h-2V7h2v10zm4 0h-2v-4h2v4z\"/>\n",
              "    </g>\n",
              "</svg>\n",
              "  </button>\n",
              "\n",
              "<style>\n",
              "  .colab-df-quickchart {\n",
              "      --bg-color: #E8F0FE;\n",
              "      --fill-color: #1967D2;\n",
              "      --hover-bg-color: #E2EBFA;\n",
              "      --hover-fill-color: #174EA6;\n",
              "      --disabled-fill-color: #AAA;\n",
              "      --disabled-bg-color: #DDD;\n",
              "  }\n",
              "\n",
              "  [theme=dark] .colab-df-quickchart {\n",
              "      --bg-color: #3B4455;\n",
              "      --fill-color: #D2E3FC;\n",
              "      --hover-bg-color: #434B5C;\n",
              "      --hover-fill-color: #FFFFFF;\n",
              "      --disabled-bg-color: #3B4455;\n",
              "      --disabled-fill-color: #666;\n",
              "  }\n",
              "\n",
              "  .colab-df-quickchart {\n",
              "    background-color: var(--bg-color);\n",
              "    border: none;\n",
              "    border-radius: 50%;\n",
              "    cursor: pointer;\n",
              "    display: none;\n",
              "    fill: var(--fill-color);\n",
              "    height: 32px;\n",
              "    padding: 0;\n",
              "    width: 32px;\n",
              "  }\n",
              "\n",
              "  .colab-df-quickchart:hover {\n",
              "    background-color: var(--hover-bg-color);\n",
              "    box-shadow: 0 1px 2px rgba(60, 64, 67, 0.3), 0 1px 3px 1px rgba(60, 64, 67, 0.15);\n",
              "    fill: var(--button-hover-fill-color);\n",
              "  }\n",
              "\n",
              "  .colab-df-quickchart-complete:disabled,\n",
              "  .colab-df-quickchart-complete:disabled:hover {\n",
              "    background-color: var(--disabled-bg-color);\n",
              "    fill: var(--disabled-fill-color);\n",
              "    box-shadow: none;\n",
              "  }\n",
              "\n",
              "  .colab-df-spinner {\n",
              "    border: 2px solid var(--fill-color);\n",
              "    border-color: transparent;\n",
              "    border-bottom-color: var(--fill-color);\n",
              "    animation:\n",
              "      spin 1s steps(1) infinite;\n",
              "  }\n",
              "\n",
              "  @keyframes spin {\n",
              "    0% {\n",
              "      border-color: transparent;\n",
              "      border-bottom-color: var(--fill-color);\n",
              "      border-left-color: var(--fill-color);\n",
              "    }\n",
              "    20% {\n",
              "      border-color: transparent;\n",
              "      border-left-color: var(--fill-color);\n",
              "      border-top-color: var(--fill-color);\n",
              "    }\n",
              "    30% {\n",
              "      border-color: transparent;\n",
              "      border-left-color: var(--fill-color);\n",
              "      border-top-color: var(--fill-color);\n",
              "      border-right-color: var(--fill-color);\n",
              "    }\n",
              "    40% {\n",
              "      border-color: transparent;\n",
              "      border-right-color: var(--fill-color);\n",
              "      border-top-color: var(--fill-color);\n",
              "    }\n",
              "    60% {\n",
              "      border-color: transparent;\n",
              "      border-right-color: var(--fill-color);\n",
              "    }\n",
              "    80% {\n",
              "      border-color: transparent;\n",
              "      border-right-color: var(--fill-color);\n",
              "      border-bottom-color: var(--fill-color);\n",
              "    }\n",
              "    90% {\n",
              "      border-color: transparent;\n",
              "      border-bottom-color: var(--fill-color);\n",
              "    }\n",
              "  }\n",
              "</style>\n",
              "\n",
              "  <script>\n",
              "    async function quickchart(key) {\n",
              "      const quickchartButtonEl =\n",
              "        document.querySelector('#' + key + ' button');\n",
              "      quickchartButtonEl.disabled = true;  // To prevent multiple clicks.\n",
              "      quickchartButtonEl.classList.add('colab-df-spinner');\n",
              "      try {\n",
              "        const charts = await google.colab.kernel.invokeFunction(\n",
              "            'suggestCharts', [key], {});\n",
              "      } catch (error) {\n",
              "        console.error('Error during call to suggestCharts:', error);\n",
              "      }\n",
              "      quickchartButtonEl.classList.remove('colab-df-spinner');\n",
              "      quickchartButtonEl.classList.add('colab-df-quickchart-complete');\n",
              "    }\n",
              "    (() => {\n",
              "      let quickchartButtonEl =\n",
              "        document.querySelector('#df-ca7017da-0022-4e8c-af6e-38aecf0a5e2b button');\n",
              "      quickchartButtonEl.style.display =\n",
              "        google.colab.kernel.accessAllowed ? 'block' : 'none';\n",
              "    })();\n",
              "  </script>\n",
              "</div>\n",
              "\n",
              "    </div>\n",
              "  </div>\n"
            ],
            "application/vnd.google.colaboratory.intrinsic+json": {
              "type": "dataframe",
              "variable_name": "df"
            }
          },
          "metadata": {},
          "execution_count": 1
        }
      ],
      "source": [
        "# Run this cell without changes\n",
        "import pandas as pd\n",
        "\n",
        "df = pd.read_csv(\"/content/energy_data.csv\")\n",
        "df.head()"
      ]
    },
    {
      "cell_type": "markdown",
      "id": "b4d25a44",
      "metadata": {
        "deletable": false,
        "editable": false,
        "nbgrader": {
          "cell_type": "markdown",
          "checksum": "be193d52afd64735458275c1b659c23d",
          "grade": false,
          "grade_id": "cell-f15e3609da54dd7f",
          "locked": true,
          "schema_version": 3,
          "solution": false,
          "task": false
        },
        "id": "b4d25a44"
      },
      "source": [
        "## 1. Create a `Series` Object for Analysis\n",
        "\n",
        "As noted previously, we do not need all of the columns of `df`. Create a `pandas` `Series` object called `light_ts` which has an index of type `DatetimeIndex` generated based on the `date` column of `df` and data from the values of the `lights` column of `df`.\n",
        "\n",
        "***Hint:*** The `pd.to_datetime` function ([documentation here](https://pandas.pydata.org/pandas-docs/stable/reference/api/pandas.to_datetime.html)) can convert strings representing dates into datetimes"
      ]
    },
    {
      "cell_type": "code",
      "execution_count": 5,
      "id": "fad90742",
      "metadata": {
        "deletable": false,
        "nbgrader": {
          "cell_type": "code",
          "checksum": "cd3936b1edced362741d6989a116c8ca",
          "grade": false,
          "grade_id": "cell-8c1bb3cb584db471",
          "locked": false,
          "schema_version": 3,
          "solution": true,
          "task": false
        },
        "colab": {
          "base_uri": "https://localhost:8080/"
        },
        "id": "fad90742",
        "outputId": "3d4be896-50c8-4dd3-8fa1-f61f7ab03826"
      },
      "outputs": [
        {
          "output_type": "stream",
          "name": "stderr",
          "text": [
            "<ipython-input-5-496239cee9cd>:6: SettingWithCopyWarning: \n",
            "A value is trying to be set on a copy of a slice from a DataFrame.\n",
            "Try using .loc[row_indexer,col_indexer] = value instead\n",
            "\n",
            "See the caveats in the documentation: https://pandas.pydata.org/pandas-docs/stable/user_guide/indexing.html#returning-a-view-versus-a-copy\n",
            "  df['date'] = pd.to_datetime(df['date'])\n"
          ]
        },
        {
          "output_type": "execute_result",
          "data": {
            "text/plain": [
              "date\n",
              "2016-01-11 17:00:00    30\n",
              "2016-01-11 17:10:00    30\n",
              "2016-01-11 17:20:00    30\n",
              "2016-01-11 17:30:00    40\n",
              "2016-01-11 17:40:00    40\n",
              "                       ..\n",
              "2016-03-23 15:40:00     0\n",
              "2016-03-23 15:50:00    10\n",
              "2016-03-23 16:00:00     0\n",
              "2016-03-23 16:10:00     0\n",
              "2016-03-23 16:20:00     0\n",
              "Name: lights, Length: 10365, dtype: int64"
            ]
          },
          "metadata": {},
          "execution_count": 5
        }
      ],
      "source": [
        "# Replace None with appropriate code\n",
        "# Step 3: Select the relevant columns (date and lights)\n",
        "df = df[['date', 'lights']]\n",
        "\n",
        "# Step 4: Convert the date column to DatetimeIndex\n",
        "df['date'] = pd.to_datetime(df['date'])\n",
        "df.set_index('date', inplace=True)\n",
        "\n",
        "light_ts = pd.Series(df['lights'])\n",
        "# YOUR CODE HERE\n",
        "#raise NotImplementedError()\n",
        "light_ts"
      ]
    },
    {
      "cell_type": "code",
      "execution_count": 6,
      "id": "6d2ef2d5",
      "metadata": {
        "deletable": false,
        "editable": false,
        "nbgrader": {
          "cell_type": "code",
          "checksum": "3205427be9fd0de0a8f5d8b685d323c4",
          "grade": true,
          "grade_id": "cell-0c606d5f65b3e662",
          "locked": true,
          "points": 1,
          "schema_version": 3,
          "solution": false,
          "task": false
        },
        "id": "6d2ef2d5"
      },
      "outputs": [],
      "source": [
        "# light_ts should be a Series\n",
        "assert type(light_ts) == pd.Series\n",
        "\n",
        "# light_ts should have the same number of records as df\n",
        "assert light_ts.shape[0] == df.shape[0]\n",
        "\n",
        "# The index of light_ts should be composed of datetimes\n",
        "assert type(light_ts.index) == pd.DatetimeIndex\n",
        "\n",
        "# PUT ALL WORK FOR THE ABOVE QUESTION ABOVE THIS CELL\n",
        "# THIS UNALTERABLE CELL CONTAINS HIDDEN TESTS"
      ]
    },
    {
      "cell_type": "markdown",
      "id": "8327eb88",
      "metadata": {
        "deletable": false,
        "editable": false,
        "nbgrader": {
          "cell_type": "markdown",
          "checksum": "38ef80171a6e7c8c3941935f19a9c0a1",
          "grade": false,
          "grade_id": "cell-e51b79c8888e7cd7",
          "locked": true,
          "schema_version": 3,
          "solution": false,
          "task": false
        },
        "id": "8327eb88"
      },
      "source": [
        "## 2. Downsample Time Series Data to Find a Daily Total\n",
        "\n",
        "Currently this dataset has recorded the amount of energy used every hour. We want to analyze the amount of energy used every day.\n",
        "\n",
        "Create a `Series` called `daily_ts` which contains the data from `light_ts` downsampled using the frequency string for 1 **day**, then aggregated using the **sum** of daily energy use by the lights.\n",
        "\n",
        "***Hint:*** Here is some relevant documentation:\n",
        "\n",
        "* See [this page](https://pandas.pydata.org/pandas-docs/stable/reference/api/pandas.Series.resample.html#pandas.Series.resample) for information on the method used for upsampling and downsampling\n",
        "* See [this page](https://pandas.pydata.org/pandas-docs/stable/user_guide/timeseries.html#dateoffset-objects) for the available frequency strings\n",
        "* See [this page](https://pandas.pydata.org/docs/reference/resampling.html#computations-descriptive-stats) for the available aggregate functions to use after resampling"
      ]
    },
    {
      "cell_type": "code",
      "execution_count": 7,
      "id": "bef646fc",
      "metadata": {
        "deletable": false,
        "nbgrader": {
          "cell_type": "code",
          "checksum": "e93c70fdeade3d7520ed54f5df71d62f",
          "grade": false,
          "grade_id": "cell-eece984f0b632f01",
          "locked": false,
          "schema_version": 3,
          "solution": true,
          "task": false
        },
        "colab": {
          "base_uri": "https://localhost:8080/"
        },
        "id": "bef646fc",
        "outputId": "b2d541bc-495f-4548-9ccf-81663d317b52"
      },
      "outputs": [
        {
          "output_type": "execute_result",
          "data": {
            "text/plain": [
              "date\n",
              "2016-01-11    1260\n",
              "2016-01-12     610\n",
              "2016-01-13     780\n",
              "2016-01-14     720\n",
              "2016-01-15     860\n",
              "              ... \n",
              "2016-03-19     180\n",
              "2016-03-20     130\n",
              "2016-03-21     860\n",
              "2016-03-22     350\n",
              "2016-03-23      90\n",
              "Freq: D, Name: lights, Length: 73, dtype: int64"
            ]
          },
          "metadata": {},
          "execution_count": 7
        }
      ],
      "source": [
        "# Replace None with appropriate code\n",
        "daily_ts = light_ts.resample('D').sum()\n",
        "# YOUR CODE HERE\n",
        "#raise NotImplementedError()\n",
        "daily_ts"
      ]
    },
    {
      "cell_type": "code",
      "execution_count": 8,
      "id": "9f53e4da",
      "metadata": {
        "deletable": false,
        "editable": false,
        "nbgrader": {
          "cell_type": "code",
          "checksum": "bfae7372c70e1629eb4596f0b07e6f79",
          "grade": true,
          "grade_id": "cell-60e6e7052d9e4fc2",
          "locked": true,
          "points": 1,
          "schema_version": 3,
          "solution": false,
          "task": false
        },
        "id": "9f53e4da"
      },
      "outputs": [],
      "source": [
        "# daily_ts should be a Series\n",
        "assert type(daily_ts) == pd.Series\n",
        "\n",
        "# daily_ts should have fewer records than light_ts\n",
        "assert len(daily_ts) < len(light_ts)\n",
        "\n",
        "# PUT ALL WORK FOR THE ABOVE QUESTION ABOVE THIS CELL\n",
        "# THIS UNALTERABLE CELL CONTAINS HIDDEN TESTS"
      ]
    },
    {
      "cell_type": "code",
      "execution_count": 9,
      "id": "99178c9c",
      "metadata": {
        "deletable": false,
        "editable": false,
        "nbgrader": {
          "cell_type": "code",
          "checksum": "db9797e5bdbb247b8f94fa5047c11414",
          "grade": false,
          "grade_id": "cell-5875e57d44066498",
          "locked": true,
          "schema_version": 3,
          "solution": false,
          "task": false
        },
        "colab": {
          "base_uri": "https://localhost:8080/",
          "height": 498
        },
        "id": "99178c9c",
        "outputId": "610d6470-d134-43fb-f41f-4a2817295b03"
      },
      "outputs": [
        {
          "output_type": "display_data",
          "data": {
            "text/plain": [
              "<Figure size 640x480 with 1 Axes>"
            ],
            "image/png": "[encoded data removed]"
          },
          "metadata": {}
        }
      ],
      "source": [
        "# Run this cell without changes\n",
        "daily_ts.plot(ylabel=\"Daily energy use of lights (Wh)\");"
      ]
    },
    {
      "cell_type": "markdown",
      "id": "4e9fce02",
      "metadata": {
        "deletable": false,
        "editable": false,
        "nbgrader": {
          "cell_type": "markdown",
          "checksum": "b0a6b5678d8b5e36652e4d7faf225265",
          "grade": false,
          "grade_id": "cell-1048e7555f930091",
          "locked": true,
          "schema_version": 3,
          "solution": false,
          "task": false
        },
        "id": "4e9fce02"
      },
      "source": [
        "## 3. Check for Stationarity\n",
        "\n",
        "Is this `daily_ts` time series stationary? You can answer this by interpreting the graph above, or using a statistical test ([documentation here](https://www.statsmodels.org/dev/generated/statsmodels.tsa.stattools.adfuller.html)) with an alpha of 0.05. Assign your answer to `is_stationary`."
      ]
    },
    {
      "cell_type": "code",
      "execution_count": 10,
      "id": "f7d453ce",
      "metadata": {
        "deletable": false,
        "nbgrader": {
          "cell_type": "code",
          "checksum": "acf707f7c827d8f030385f31406cb970",
          "grade": false,
          "grade_id": "cell-cd438a6a385d12e5",
          "locked": false,
          "schema_version": 3,
          "solution": true,
          "task": false
        },
        "colab": {
          "base_uri": "https://localhost:8080/"
        },
        "id": "f7d453ce",
        "outputId": "fbcfbf87-7aaa-47b1-a62b-71aac8a970f1"
      },
      "outputs": [
        {
          "output_type": "execute_result",
          "data": {
            "text/plain": [
              "False"
            ]
          },
          "metadata": {},
          "execution_count": 10
        }
      ],
      "source": [
        "# Replace None with appropriate code\n",
        "from statsmodels.tsa.stattools import adfuller\n",
        "\n",
        "# Perform Augmented Dickey-Fuller test\n",
        "result = adfuller(daily_ts)\n",
        "\n",
        "# Extract the p-value from the test result\n",
        "p_value = result[1]\n",
        "\n",
        "# Check if the time series is stationary based on the p-value and alpha level\n",
        "alpha = 0.05\n",
        "is_stationary = p_value <= alpha\n",
        "# YOUR CODE HERE\n",
        "#raise NotImplementedError()\n",
        "is_stationary"
      ]
    },
    {
      "cell_type": "code",
      "execution_count": 11,
      "id": "ba79611f",
      "metadata": {
        "deletable": false,
        "editable": false,
        "nbgrader": {
          "cell_type": "code",
          "checksum": "1bb0083ade322cf2f22958fcd378302d",
          "grade": true,
          "grade_id": "cell-580ff4c086e19cf6",
          "locked": true,
          "points": 1,
          "schema_version": 3,
          "solution": false,
          "task": false
        },
        "id": "ba79611f"
      },
      "outputs": [],
      "source": [
        "# is_stationary should be True or False\n",
        "assert (is_stationary == True or is_stationary == False)\n",
        "\n",
        "# PUT ALL WORK FOR THE ABOVE QUESTION ABOVE THIS CELL\n",
        "# THIS UNALTERABLE CELL CONTAINS HIDDEN TESTS"
      ]
    },
    {
      "cell_type": "markdown",
      "id": "88d9a134",
      "metadata": {
        "deletable": false,
        "editable": false,
        "nbgrader": {
          "cell_type": "markdown",
          "checksum": "641095bf95d4c42bb48583e58c478bca",
          "grade": false,
          "grade_id": "cell-40927cba3193cf66",
          "locked": true,
          "schema_version": 3,
          "solution": false,
          "task": false
        },
        "id": "88d9a134"
      },
      "source": [
        "## 4. Find The Weekly Rolling Average of Time Series Data\n",
        "\n",
        "Create a `Series` called `rolling_avg_ts` that represents the **weekly (7-day)** rolling **mean** of daily energy usage.\n",
        "\n",
        "***Hint:*** See [this documentation](https://pandas.pydata.org/docs/reference/api/pandas.Series.rolling.html) for more information on calculating a rolling average.\n",
        "\n",
        "(Note that it is expected that you'll see some NaN values at the beginning, when there have been fewer than 7 days to average.)"
      ]
    },
    {
      "cell_type": "code",
      "execution_count": 12,
      "id": "d1de1a59",
      "metadata": {
        "deletable": false,
        "nbgrader": {
          "cell_type": "code",
          "checksum": "d2ac6457bcff88bbf16411bd14400a61",
          "grade": false,
          "grade_id": "cell-c92808cd4096e5cc",
          "locked": false,
          "schema_version": 3,
          "solution": true,
          "task": false
        },
        "colab": {
          "base_uri": "https://localhost:8080/"
        },
        "id": "d1de1a59",
        "outputId": "8e671ef5-2b47-4cd2-bd13-e1ca255ce2f9"
      },
      "outputs": [
        {
          "output_type": "execute_result",
          "data": {
            "text/plain": [
              "date\n",
              "2016-01-11           NaN\n",
              "2016-01-12           NaN\n",
              "2016-01-13           NaN\n",
              "2016-01-14           NaN\n",
              "2016-01-15           NaN\n",
              "                 ...    \n",
              "2016-03-19    625.714286\n",
              "2016-03-20    597.142857\n",
              "2016-03-21    627.142857\n",
              "2016-03-22    561.428571\n",
              "2016-03-23    397.142857\n",
              "Freq: D, Name: lights, Length: 73, dtype: float64"
            ]
          },
          "metadata": {},
          "execution_count": 12
        }
      ],
      "source": [
        "# Replace None with appropriate code\n",
        "rolling_avg_ts = daily_ts.rolling(window=7).mean()\n",
        "# YOUR CODE HERE\n",
        "#raise NotImplementedError()\n",
        "rolling_avg_ts"
      ]
    },
    {
      "cell_type": "code",
      "execution_count": 13,
      "id": "71eaa74d",
      "metadata": {
        "deletable": false,
        "editable": false,
        "nbgrader": {
          "cell_type": "code",
          "checksum": "0dc28df2ec8b000e02c08c4eab4a3c15",
          "grade": true,
          "grade_id": "cell-9ea5fb2be775c44b",
          "locked": true,
          "points": 1,
          "schema_version": 3,
          "solution": false,
          "task": false
        },
        "id": "71eaa74d"
      },
      "outputs": [],
      "source": [
        "# rolling_avg_ts should be a Series\n",
        "assert type(rolling_avg_ts) == pd.Series\n",
        "\n",
        "# rolling_avg_ts should have the same number of records as daily_ts\n",
        "assert len(rolling_avg_ts) == len(daily_ts)\n",
        "\n",
        "# PUT ALL WORK FOR THE ABOVE QUESTION ABOVE THIS CELL\n",
        "# THIS UNALTERABLE CELL CONTAINS HIDDEN TESTS"
      ]
    },
    {
      "cell_type": "markdown",
      "id": "0bcbf59b",
      "metadata": {
        "deletable": false,
        "editable": false,
        "nbgrader": {
          "cell_type": "markdown",
          "checksum": "5ce973c76db0c96feeb5711da3cf9bef",
          "grade": false,
          "grade_id": "cell-0f0a3d032258625a",
          "locked": true,
          "schema_version": 3,
          "solution": false,
          "task": false
        },
        "id": "0bcbf59b"
      },
      "source": [
        "In the cell below, we plot the raw daily data, the 7-day moving average, and the difference between the raw daily data and the moving average."
      ]
    },
    {
      "cell_type": "code",
      "execution_count": 14,
      "id": "27564712",
      "metadata": {
        "deletable": false,
        "editable": false,
        "nbgrader": {
          "cell_type": "code",
          "checksum": "190f0bcb9edea4af71d350f4efc3799e",
          "grade": false,
          "grade_id": "cell-e30a62ff5dfbc684",
          "locked": true,
          "schema_version": 3,
          "solution": false,
          "task": false
        },
        "colab": {
          "base_uri": "https://localhost:8080/",
          "height": 259
        },
        "id": "27564712",
        "outputId": "7561142f-2c4b-4b90-d4c0-d15b49622c92"
      },
      "outputs": [
        {
          "output_type": "display_data",
          "data": {
            "text/plain": [
              "<Figure size 1600x400 with 3 Axes>"
            ],
            "image/png": "[encoded data removed]"
          },
          "metadata": {}
        }
      ],
      "source": [
        "# Run this cell without changes\n",
        "\n",
        "import matplotlib.pyplot as plt\n",
        "from matplotlib.dates import AutoDateLocator, ConciseDateFormatter\n",
        "import numpy as np\n",
        "\n",
        "differenced_ts = daily_ts - rolling_avg_ts\n",
        "differenced_ts.dropna(inplace=True)\n",
        "differenced_transformed_ts = np.sqrt(daily_ts) - np.sqrt(rolling_avg_ts)\n",
        "differenced_transformed_ts.dropna(inplace=True)\n",
        "\n",
        "fig, axes = plt.subplots(ncols=3, figsize=(16,4))\n",
        "\n",
        "axes[0].plot(daily_ts, color=\"gray\", label=\"Daily energy use\", )\n",
        "axes[0].plot(rolling_avg_ts, color=\"blue\", label=\"7-day moving average\")\n",
        "axes[1].plot(differenced_ts, color=\"green\", label=\"Differenced\")\n",
        "axes[2].plot(differenced_transformed_ts, label=\"Differenced and transformed\")\n",
        "\n",
        "locator = AutoDateLocator()\n",
        "formatter = ConciseDateFormatter(locator)\n",
        "\n",
        "for ax in axes:\n",
        "    ax.xaxis.set_major_locator(locator)\n",
        "    ax.xaxis.set_major_formatter(formatter)\n",
        "    ax.legend()"
      ]
    },
    {
      "cell_type": "markdown",
      "id": "62ecd84f",
      "metadata": {
        "deletable": false,
        "editable": false,
        "nbgrader": {
          "cell_type": "markdown",
          "checksum": "6f0aefd207d4133d15b4e7aa3b7ceb13",
          "grade": false,
          "grade_id": "cell-87ddebe457119f57",
          "locked": true,
          "schema_version": 3,
          "solution": false,
          "task": false
        },
        "id": "62ecd84f"
      },
      "source": [
        "## 5. Choose a Dataset and Build an AR(I)MA Model\n",
        "\n",
        "Based on the plots above, choose the most-stationary time series data out of:\n",
        "\n",
        "* `daily_ts`\n",
        "* `differenced_ts`\n",
        "* `differenced_transformed_ts`\n",
        "\n",
        "And plug it into an AR(I)MA model ([documentation here](https://www.statsmodels.org/dev/generated/statsmodels.tsa.arima.model.ARIMA.html))\n",
        "\n",
        "You can use any order `(p, d, q)` that you want, so long as it doesn't produce a warning message."
      ]
    },
    {
      "cell_type": "code",
      "execution_count": 16,
      "id": "87a9c57b",
      "metadata": {
        "deletable": false,
        "nbgrader": {
          "cell_type": "code",
          "checksum": "d157074561325b934c8b45cf4b86e21d",
          "grade": false,
          "grade_id": "cell-5c1083654356a9b2",
          "locked": false,
          "schema_version": 3,
          "solution": true,
          "task": false
        },
        "colab": {
          "base_uri": "https://localhost:8080/",
          "height": 452
        },
        "id": "87a9c57b",
        "outputId": "436d5882-30c4-4910-929e-89d01087637d"
      },
      "outputs": [
        {
          "output_type": "execute_result",
          "data": {
            "text/plain": [
              "<class 'statsmodels.iolib.summary.Summary'>\n",
              "\"\"\"\n",
              "                               SARIMAX Results                                \n",
              "==============================================================================\n",
              "Dep. Variable:                 lights   No. Observations:                   73\n",
              "Model:                 ARIMA(1, 0, 1)   Log Likelihood                -550.638\n",
              "Date:                Sun, 16 Jun 2024   AIC                           1109.277\n",
              "Time:                        19:51:17   BIC                           1118.439\n",
              "Sample:                    01-11-2016   HQIC                          1112.928\n",
              "                         - 03-23-2016                                         \n",
              "Covariance Type:                  opg                                         \n",
              "==============================================================================\n",
              "                 coef    std err          z      P>|z|      [0.025      0.975]\n",
              "------------------------------------------------------------------------------\n",
              "const        739.3151    100.949      7.324      0.000     541.458     937.172\n",
              "ar.L1          0.2198      0.290      0.758      0.448      -0.348       0.788\n",
              "ma.L1          0.2014      0.313      0.643      0.520      -0.413       0.816\n",
              "sigma2      2.153e+05   4.14e+04      5.195      0.000    1.34e+05    2.97e+05\n",
              "===================================================================================\n",
              "Ljung-Box (L1) (Q):                   0.00   Jarque-Bera (JB):                 3.89\n",
              "Prob(Q):                              0.97   Prob(JB):                         0.14\n",
              "Heteroskedasticity (H):               0.45   Skew:                             0.56\n",
              "Prob(H) (two-sided):                  0.05   Kurtosis:                         2.92\n",
              "===================================================================================\n",
              "\n",
              "Warnings:\n",
              "[1] Covariance matrix calculated using the outer product of gradients (complex-step).\n",
              "\"\"\""
            ],
            "text/html": [
              "<table class=\"simpletable\">\n",
              "<caption>SARIMAX Results</caption>\n",
              "<tr>\n",
              "  <th>Dep. Variable:</th>        <td>lights</td>      <th>  No. Observations:  </th>    <td>73</td>   \n",
              "</tr>\n",
              "<tr>\n",
              "  <th>Model:</th>            <td>ARIMA(1, 0, 1)</td>  <th>  Log Likelihood     </th> <td>-550.638</td>\n",
              "</tr>\n",
              "<tr>\n",
              "  <th>Date:</th>            <td>Sun, 16 Jun 2024</td> <th>  AIC                </th> <td>1109.277</td>\n",
              "</tr>\n",
              "<tr>\n",
              "  <th>Time:</th>                <td>19:51:17</td>     <th>  BIC                </th> <td>1118.439</td>\n",
              "</tr>\n",
              "<tr>\n",
              "  <th>Sample:</th>             <td>01-11-2016</td>    <th>  HQIC               </th> <td>1112.928</td>\n",
              "</tr>\n",
              "<tr>\n",
              "  <th></th>                   <td>- 03-23-2016</td>   <th>                     </th>     <td> </td>   \n",
              "</tr>\n",
              "<tr>\n",
              "  <th>Covariance Type:</th>        <td>opg</td>       <th>                     </th>     <td> </td>   \n",
              "</tr>\n",
              "</table>\n",
              "<table class=\"simpletable\">\n",
              "<tr>\n",
              "     <td></td>       <th>coef</th>     <th>std err</th>      <th>z</th>      <th>P>|z|</th>  <th>[0.025</th>    <th>0.975]</th>  \n",
              "</tr>\n",
              "<tr>\n",
              "  <th>const</th>  <td>  739.3151</td> <td>  100.949</td> <td>    7.324</td> <td> 0.000</td> <td>  541.458</td> <td>  937.172</td>\n",
              "</tr>\n",
              "<tr>\n",
              "  <th>ar.L1</th>  <td>    0.2198</td> <td>    0.290</td> <td>    0.758</td> <td> 0.448</td> <td>   -0.348</td> <td>    0.788</td>\n",
              "</tr>\n",
              "<tr>\n",
              "  <th>ma.L1</th>  <td>    0.2014</td> <td>    0.313</td> <td>    0.643</td> <td> 0.520</td> <td>   -0.413</td> <td>    0.816</td>\n",
              "</tr>\n",
              "<tr>\n",
              "  <th>sigma2</th> <td> 2.153e+05</td> <td> 4.14e+04</td> <td>    5.195</td> <td> 0.000</td> <td> 1.34e+05</td> <td> 2.97e+05</td>\n",
              "</tr>\n",
              "</table>\n",
              "<table class=\"simpletable\">\n",
              "<tr>\n",
              "  <th>Ljung-Box (L1) (Q):</th>     <td>0.00</td> <th>  Jarque-Bera (JB):  </th> <td>3.89</td>\n",
              "</tr>\n",
              "<tr>\n",
              "  <th>Prob(Q):</th>                <td>0.97</td> <th>  Prob(JB):          </th> <td>0.14</td>\n",
              "</tr>\n",
              "<tr>\n",
              "  <th>Heteroskedasticity (H):</th> <td>0.45</td> <th>  Skew:              </th> <td>0.56</td>\n",
              "</tr>\n",
              "<tr>\n",
              "  <th>Prob(H) (two-sided):</th>    <td>0.05</td> <th>  Kurtosis:          </th> <td>2.92</td>\n",
              "</tr>\n",
              "</table><br/><br/>Warnings:<br/>[1] Covariance matrix calculated using the outer product of gradients (complex-step)."
            ],
            "text/latex": "\\begin{center}\n\\begin{tabular}{lclc}\n\\toprule\n\\textbf{Dep. Variable:}          &      lights      & \\textbf{  No. Observations:  } &     73      \\\\\n\\textbf{Model:}                  &  ARIMA(1, 0, 1)  & \\textbf{  Log Likelihood     } &  -550.638   \\\\\n\\textbf{Date:}                   & Sun, 16 Jun 2024 & \\textbf{  AIC                } &  1109.277   \\\\\n\\textbf{Time:}                   &     19:51:17     & \\textbf{  BIC                } &  1118.439   \\\\\n\\textbf{Sample:}                 &    01-11-2016    & \\textbf{  HQIC               } &  1112.928   \\\\\n\\textbf{}                        &   - 03-23-2016   & \\textbf{                     } &             \\\\\n\\textbf{Covariance Type:}        &       opg        & \\textbf{                     } &             \\\\\n\\bottomrule\n\\end{tabular}\n\\begin{tabular}{lcccccc}\n                & \\textbf{coef} & \\textbf{std err} & \\textbf{z} & \\textbf{P$> |$z$|$} & \\textbf{[0.025} & \\textbf{0.975]}  \\\\\n\\midrule\n\\textbf{const}  &     739.3151  &      100.949     &     7.324  &         0.000        &      541.458    &      937.172     \\\\\n\\textbf{ar.L1}  &       0.2198  &        0.290     &     0.758  &         0.448        &       -0.348    &        0.788     \\\\\n\\textbf{ma.L1}  &       0.2014  &        0.313     &     0.643  &         0.520        &       -0.413    &        0.816     \\\\\n\\textbf{sigma2} &    2.153e+05  &     4.14e+04     &     5.195  &         0.000        &     1.34e+05    &     2.97e+05     \\\\\n\\bottomrule\n\\end{tabular}\n\\begin{tabular}{lclc}\n\\textbf{Ljung-Box (L1) (Q):}     & 0.00 & \\textbf{  Jarque-Bera (JB):  } & 3.89  \\\\\n\\textbf{Prob(Q):}                & 0.97 & \\textbf{  Prob(JB):          } & 0.14  \\\\\n\\textbf{Heteroskedasticity (H):} & 0.45 & \\textbf{  Skew:              } & 0.56  \\\\\n\\textbf{Prob(H) (two-sided):}    & 0.05 & \\textbf{  Kurtosis:          } & 2.92  \\\\\n\\bottomrule\n\\end{tabular}\n%\\caption{SARIMAX Results}\n\\end{center}\n\nWarnings: \\newline\n [1] Covariance matrix calculated using the outer product of gradients (complex-step)."
          },
          "metadata": {},
          "execution_count": 16
        }
      ],
      "source": [
        "# Replace None with appropriate code\n",
        "from statsmodels.tsa.arima.model import ARIMA\n",
        "p = 1  # Autoregressive (AR) order\n",
        "d = 0  # Differencing (I) order (since the data is already stationary)\n",
        "q = 1  # Moving Average (MA) order\n",
        "model = ARIMA(daily_ts, order=(p, d, q))\n",
        "\n",
        "#YOUR CODE HERE\n",
        "#plementedError()\n",
        "\n",
        "res = model.fit()\n",
        "res.summary()"
      ]
    },
    {
      "cell_type": "code",
      "execution_count": 17,
      "id": "fe0a71f8",
      "metadata": {
        "deletable": false,
        "editable": false,
        "nbgrader": {
          "cell_type": "code",
          "checksum": "da62615e46183e97f372dad42294cfb9",
          "grade": true,
          "grade_id": "cell-848494f70e9f7a0c",
          "locked": true,
          "points": 1,
          "schema_version": 3,
          "solution": false,
          "task": false
        },
        "id": "fe0a71f8"
      },
      "outputs": [],
      "source": [
        "# model should be an ARIMA model\n",
        "assert type(model) == ARIMA\n",
        "\n",
        "# PUT ALL WORK FOR THE ABOVE QUESTION ABOVE THIS CELL\n",
        "# THIS UNALTERABLE CELL CONTAINS HIDDEN TESTS"
      ]
    }
  ],
  "metadata": {
    "kernelspec": {
      "display_name": "Python 3 (ipykernel)",
      "language": "python",
      "name": "python3"
    },
    "language_info": {
      "codemirror_mode": {
        "name": "ipython",
        "version": 3
      },
      "file_extension": ".py",
      "mimetype": "text/x-python",
      "name": "python",
      "nbconvert_exporter": "python",
      "pygments_lexer": "ipython3",
      "version": "3.12.0"
    },
    "colab": {
      "provenance": [],
      "include_colab_link": true
    }
  },
  "nbformat": 4,
  "nbformat_minor": 5
}